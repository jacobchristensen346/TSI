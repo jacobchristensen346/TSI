{
 "cells": [
  {
   "cell_type": "markdown",
   "id": "ec667d5c",
   "metadata": {},
   "source": [
    "# Chirality Trends"
   ]
  },
  {
   "cell_type": "markdown",
   "id": "22958287",
   "metadata": {},
   "source": [
    "- We would like to plot out the chirality trends of our TSI crystal refinements\n",
    "- We do this with the Flack parameter, hinting at the handedness of each crystal"
   ]
  },
  {
   "cell_type": "code",
   "execution_count": 1,
   "id": "a1fc9805",
   "metadata": {},
   "outputs": [],
   "source": [
    "import numpy as np\n",
    "import matplotlib.pyplot as plt\n",
    "from scipy.interpolate import interpn\n",
    "from matplotlib import cm\n",
    "import math\n",
    "import sys\n",
    "import time\n",
    "from scipy.optimize import least_squares\n",
    "import glob\n",
    "import scipy.fft\n",
    "import os\n",
    "import matplotlib as mpl\n",
    "from matplotlib.widgets import Slider, Button, RadioButtons\n",
    "#os.chdir('C:/Users/Jacob/OneDrive/yell/')\n",
    "import h5py\n",
    "import matplotlib"
   ]
  },
  {
   "cell_type": "markdown",
   "id": "3efb2657",
   "metadata": {},
   "source": [
    "- This plot to be used in the paper"
   ]
  },
  {
   "cell_type": "code",
   "execution_count": 10,
   "id": "7392de14",
   "metadata": {},
   "outputs": [
    {
     "data": {
      "image/png": "[encoded data removed]",
      "text/plain": [
       "<Figure size 504x288 with 2 Axes>"
      ]
     },
     "metadata": {
      "needs_background": "light"
     },
     "output_type": "display_data"
    }
   ],
   "source": [
    "matplotlib.rcParams['font.sans-serif'] = \"arial\"\n",
    "# Then, \"ALWAYS use sans-serif fonts\"\n",
    "matplotlib.rcParams['font.family'] = \"sans-serif\"\n",
    "plt.rcParams.update({'font.size': 22})\n",
    "plt.rcParams[\"figure.figsize\"] = (7,4)\n",
    "#plt.tight_layout()\n",
    "\n",
    "x7 = np.array([1,2.7,4.4])*0.5\n",
    "x8 = 3.5+np.array([1,2.7,4.4])*0.5\n",
    "x9 = 7+np.array([1,2.7,4.4])*0.5\n",
    "x = 10.5+np.array([1,2.7,4.4])*0.5\n",
    "x1 = 14+np.array([1,2.7,4.4])*0.5\n",
    "x2 = 17.5+np.array([1,2.7,4.4])*0.5\n",
    "x3 = 21+np.array([1,2.7,4.4])*0.5\n",
    "x4 = 24.5+np.array([1,2.7,4.4])*0.5\n",
    "x5 = 28+np.array([1,2.7,4.4])*0.5\n",
    "x6 = 31.5+np.array([1,2.7,4.4])*0.5\n",
    "\n",
    "y = np.array([1-0.06,1-0.02,1-0.12])\n",
    "y1 = np.array([1-0.08,1-(-0.06),1-(-0.13)])\n",
    "y2 = np.array([1-(-0.09),1-0.07,1-0.05])\n",
    "y3 = np.array([0.03,(-0.05),0.24])\n",
    "y4 = np.array([0.16,0.03,0.04])\n",
    "y5 = np.array([(-0.05),(-0.09),0.03])\n",
    "y6 = np.array([0.06,0.07,(-0.02)])\n",
    "y7 = np.array([0.01,(-0.17),0.09])\n",
    "y8 = np.array([(-0.2),0.05,(-0.06)])\n",
    "y9 = np.array([0.06,(-0.17),(-0.05)])\n",
    "\n",
    "e = np.array([0.18,0.11,0.13])\n",
    "e1 = np.array([0.07,0.10,0.13])\n",
    "e2 = np.array([0.10,0.15,0.13])\n",
    "e3 = np.array([0.10,0.11,0.07])\n",
    "e4 = np.array([0.18,0.10,0.13])\n",
    "e5 = np.array([0.09,0.12,0.30])\n",
    "e6 = np.array([0.10,0.08,0.12])\n",
    "e7 = np.array([0.14,0.17,0.11])\n",
    "e8 = np.array([0.3,0.12,0.13])\n",
    "e9 = np.array([0.09,0.15,0.17])\n",
    "\n",
    "xlist = np.array([1,2,3,4,5,6,7,8,9,10,11,12,13,14,15,16,17,18,19,20,21,22,23,24,25,26,27,28,29,30])*0.5\n",
    "#y = [0.06,0.02,0.12,0.08,-0.06,-0.13,-0.09,0.07,0.05,1-0.03,1-(-0.05),1-0.24,1-0.16,1-0.03,1-0.04,\n",
    "#     1-(-0.05),1-(-0.09),1-0.03,1-0.06,1-0.07,1-(-0.02),1-0.01,1-(-0.17),1-0.09,1-(-0.2),1-0.05,\n",
    "#     1-(-0.06),1-0.06,1-(-0.17),1-(-0.05)]\n",
    "#e = [0.18,0.11,0.13,0.07,0.10,0.13,0.10,0.15,0.13,0.10,0.11,0.07,\n",
    "#     0.18,0.10,0.13,0.09,0.12,0.30,0.10,0.08,0.12,0.14,0.17,0.11,0.3,0.12,0.13,0.09,0.15,0.17]\n",
    "fig, ax = plt.subplots(1,1)\n",
    "plot = ax.errorbar(x,y,yerr=e,fmt='o',capsize=4, clip_on = False, ms=6,elinewidth=2.3,color='red',label='batch 1')\n",
    "plot1 = ax.errorbar(x1,y1,yerr=e1,fmt='o',capsize=4, clip_on = False, ms=6,elinewidth=2.3,color='green')\n",
    "plot2 = ax.errorbar(x2,y2,yerr=e2,fmt='o',capsize=4, clip_on = False, ms=6,elinewidth=2.3,color='blue')\n",
    "plot3 = ax.errorbar(x3,y3,yerr=e3,fmt='o',capsize=4, clip_on = False, ms=6,elinewidth=2.3,color='orange')\n",
    "plot4 = ax.errorbar(x4,y4,yerr=e4,fmt='o',capsize=4, clip_on = False, ms=6,elinewidth=2.3,color='purple')\n",
    "plot5 = ax.errorbar(x5,y5,yerr=e5,fmt='o',capsize=4, clip_on = False, ms=6,elinewidth=2.3,color='brown')\n",
    "plot6 = ax.errorbar(x6,y6,yerr=e6,fmt='o',capsize=4, clip_on = False, ms=6,elinewidth=2.3,color='grey')\n",
    "plot7 = ax.errorbar(x7,y7,yerr=e7,fmt='s',capsize=4, clip_on = False, ms=6.2,elinewidth=2.3,color='magenta')\n",
    "plot8 = ax.errorbar(x8,y8,yerr=e8,fmt='s',capsize=4, clip_on = False, ms=6.2,elinewidth=2.3,color='teal',label='batch 2')\n",
    "plot9 = ax.errorbar(x9,y9,yerr=e9,fmt='s',capsize=4, clip_on = False, ms=6.2,elinewidth=2.3,color='gold')\n",
    "\n",
    "#for b in plot[1]:\n",
    "#    b.set_clip_on(False)\n",
    "#for b in plot[2]:\n",
    "#    b.set_clip_on(False)    \n",
    "        \n",
    "ax.get_xaxis().set_visible(False)\n",
    "ax.set_ylim(0,1)\n",
    "ax.set_yticks([0,0.5,1])\n",
    "ax.set_yticklabels([0.0,0.5,1.0])\n",
    "ax.set_ylabel('Flack')\n",
    "ax.yaxis.set_label_coords(-0.12, .5)\n",
    "#ax.set_aspect(2)\n",
    "\n",
    "ax.set_xlim(0,max(x6)+0.5)\n",
    "\n",
    "handles, labels = ax.get_legend_handles_labels()\n",
    "# remove the errorbars\n",
    "handles = [h[0] for h in handles]\n",
    "# use them in the legend\n",
    "ax.legend(handles, labels, loc=(0.62,0.55),numpoints=1,frameon=False,markerscale=1.3,fontsize=18)\n",
    "\n",
    "ax = plt.gca()\n",
    "leg = ax.get_legend()\n",
    "leg.legendHandles[0].set_color('black')\n",
    "leg.legendHandles[1].set_color('black')\n",
    "\n",
    "ax1 = ax.twinx()\n",
    "ax1.set_ylim(0,1)\n",
    "ax1.set_yticks([0,1])\n",
    "ax1.set_yticklabels(['left','right'])\n",
    "ax1.set_ylabel('Chirality' ,rotation=270)\n",
    "ax1.yaxis.set_label_coords(1.12, 0.5)\n",
    "#ax1.set_aspect(2)\n",
    "\n",
    "plt.savefig('C:/Users/Jacob/Downloads/Ta2Se8I_handedness.png',dpi=170,bbox_inches = 'tight', pad_inches = .018)"
   ]
  },
  {
   "cell_type": "markdown",
   "id": "f733645f",
   "metadata": {},
   "source": [
    "- Below is an earlier version of plot, not used"
   ]
  },
  {
   "cell_type": "code",
   "execution_count": 156,
   "id": "d5550d34",
   "metadata": {},
   "outputs": [
    {
     "data": {
      "image/png": "[encoded data removed]",
      "text/plain": [
       "<Figure size 504x360 with 2 Axes>"
      ]
     },
     "metadata": {
      "needs_background": "light"
     },
     "output_type": "display_data"
    }
   ],
   "source": [
    "from matplotlib.gridspec import GridSpec\n",
    "\n",
    "plt.rcParams.update({'font.size': 20})\n",
    "plt.rcParams[\"figure.figsize\"] = (7,5)\n",
    "\n",
    "fig = plt.figure()\n",
    "gs = GridSpec(2, 2, height_ratios=[1, 10])\n",
    "ax = fig.add_subplot(gs.new_subplotspec((0, 0), colspan=2))\n",
    "ax1 = fig.add_subplot(gs.new_subplotspec((1, 0), colspan=2))\n",
    "\n",
    "#fig, (ax, ax1) = plt.subplots(2, 1, sharex=True)\n",
    "\n",
    "x = [1,2,3,4,5]\n",
    "y = [0,0,0.04,-0.04,0.05]\n",
    "e = [0.04,0.05,0.15,0.15,0.10]\n",
    "x1 = [6,7,8,9,10,11]\n",
    "y1 = [0.07,-0.01,0,-0.1,0,-0.03]\n",
    "e1 = [0.09,0.06,0.08,0.03,0.03,0.02]\n",
    "#ax.errorbar(x,y,yerr=e,fmt='o',capsize=3, clip_on = False, ms=6.5)\n",
    "#ax.errorbar(x1,y1,yerr=e1,fmt='o',capsize=3, clip_on = False, ms=6.5, ecolor='r', mfc='r',mec='r')\n",
    "ax1.errorbar(x,y,yerr=e,fmt='o',capsize=3, clip_on = False, ms=6.5,label='right')\n",
    "ax1.errorbar(x1,y1,yerr=e1,fmt='o',capsize=3, clip_on = False, ms=6.5, ecolor='r', mfc='r',mec='r',label='left')\n",
    "ax1.plot([0,14],[0,0],color='black')\n",
    "\n",
    "\n",
    "ax.set_ylim(9.9,1.0)  # outliers only\n",
    "ax1.set_ylim(-0.2, 0.3)  # most of the data\n",
    "ax1.set_xlim(0, 12)  \n",
    "\n",
    "ax.spines['bottom'].set_visible(False)\n",
    "ax.spines['right'].set_visible(False)\n",
    "ax.spines['top'].set_visible(False)\n",
    "ax1.spines['top'].set_visible(False)\n",
    "ax1.spines['right'].set_visible(False)\n",
    "ax1.spines['bottom'].set_visible(False)\n",
    "ax.xaxis.tick_top()\n",
    "ax.tick_params(labeltop=False)  # don't put tick labels at the top\n",
    "ax1.xaxis.tick_bottom()\n",
    "ax.get_xaxis().set_visible(False)\n",
    "ax1.get_xaxis().set_visible(False)\n",
    "\n",
    "ax1.set_ylabel('Hooft')\n",
    "ax1.yaxis.set_label_coords(-0.15, .6)\n",
    "ax1.set_yticks([-0.2,0,0.2])\n",
    "#ax1.set_yticklabels([1.0])\n",
    "\n",
    "ax.set_yticks([1.0])\n",
    "ax.set_yticklabels([1.0])\n",
    "\n",
    "d = .25  # proportion of vertical to horizontal extent of the slanted line\n",
    "kwargs = dict(marker=[(-1, -d), (1, d)], markersize=12,\n",
    "              linestyle=\"none\", color='k', mec='k', mew=1, clip_on=False)\n",
    "ax.plot([0], [0], transform=ax.transAxes, **kwargs)\n",
    "ax1.plot([0], [1], transform=ax1.transAxes, **kwargs)\n",
    "\n",
    "# get handles\n",
    "handles, labels = ax1.get_legend_handles_labels()\n",
    "# remove the errorbars\n",
    "handles = [h[0] for h in handles]\n",
    "# use them in the legend\n",
    "ax1.legend(handles, labels, loc=[0.6,0.8],numpoints=1,frameon=False)\n",
    "\n",
    "# What's cool about this is that now if we vary the distance between\n",
    "# ax and ax2 via f.subplots_adjust(hspace=...) or plt.subplot_tool(),\n",
    "# the diagonal lines will move accordingly, and stay right at the tips\n",
    "# of the spines they are 'breaking'\n",
    "\n",
    "#plt.show()\n",
    "\n",
    "plt.savefig('C:/Users/Jacob/Downloads/Ta2Se8I_handedness.png',dpi=300,bbox_inches = 'tight', pad_inches = .018)"
   ]
  },
  {
   "cell_type": "code",
   "execution_count": null,
   "id": "2c727948",
   "metadata": {},
   "outputs": [],
   "source": []
  }
 ],
 "metadata": {
  "kernelspec": {
   "display_name": "Python 3 (ipykernel)",
   "language": "python",
   "name": "python3"
  },
  "language_info": {
   "codemirror_mode": {
    "name": "ipython",
    "version": 3
   },
   "file_extension": ".py",
   "mimetype": "text/x-python",
   "name": "python",
   "nbconvert_exporter": "python",
   "pygments_lexer": "ipython3",
   "version": "3.9.12"
  }
 },
 "nbformat": 4,
 "nbformat_minor": 5
}
