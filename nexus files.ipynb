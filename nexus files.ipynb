{
 "cells": [
  {
   "cell_type": "code",
   "execution_count": 6,
   "id": "5c15e443",
   "metadata": {},
   "outputs": [],
   "source": [
    "from nexusformat.nexus import *\n",
    "import os\n",
    "os.chdir('E:/Ta2Se8I/6IDD_20210723/High-res/28K')\n",
    "#help(nx)"
   ]
  },
  {
   "cell_type": "code",
   "execution_count": 32,
   "id": "a182f907",
   "metadata": {},
   "outputs": [],
   "source": [
    "a = nxload('f3_masked_transform.nxs')"
   ]
  },
  {
   "cell_type": "code",
   "execution_count": 33,
   "id": "e42bb79c",
   "metadata": {},
   "outputs": [
    {
     "name": "stdout",
     "output_type": "stream",
     "text": [
      "root:NXroot\n",
      "  entry:NXgroup\n",
      "    data:NXgroup\n",
      "      n = float32(1201x1001x1001)\n",
      "      v = float32(1201x1001x1001)\n"
     ]
    }
   ],
   "source": [
    "print(a.tree)"
   ]
  },
  {
   "cell_type": "code",
   "execution_count": 43,
   "id": "c6675016",
   "metadata": {},
   "outputs": [],
   "source": [
    "x=a.entry.data.n[:]"
   ]
  },
  {
   "cell_type": "code",
   "execution_count": 38,
   "id": "0239d1da",
   "metadata": {},
   "outputs": [
    {
     "data": {
      "text/plain": [
       "NXroot('function.nxs')"
      ]
     },
     "execution_count": 38,
     "metadata": {},
     "output_type": "execute_result"
    }
   ],
   "source": [
    "import numpy as np\n",
    "x=y=np.linspace(0,2*np.pi,101)\n",
    "X,Y=np.meshgrid(x,y)\n",
    "z=np.sin(X)*np.sin(Y)\n",
    "a=NXdata(z,[y,x])\n",
    "a.save('function.nxs')"
   ]
  },
  {
   "cell_type": "code",
   "execution_count": 40,
   "id": "5091afa2",
   "metadata": {},
   "outputs": [
    {
     "name": "stdout",
     "output_type": "stream",
     "text": [
      "root:NXroot\n",
      "  @HDF5_Version = '1.10.4'\n",
      "  @file_name = 'E:\\6IDD_20210723\\High_res\\function.nxs'\n",
      "  @file_time = '2022-09-08T20:46:30.865620'\n",
      "  @h5py_version = '2.10.0'\n",
      "  @nexusformat_version = '0.7.7'\n",
      "  entry:NXentry\n",
      "    data:NXdata\n",
      "      @axes = ['axis1', 'axis2']\n",
      "      @signal = 'signal'\n",
      "      axis1 = float64(101)\n",
      "      axis2 = float64(101)\n",
      "      signal = float64(101x101)\n"
     ]
    }
   ],
   "source": [
    "b=nxload('function.nxs')\n",
    "print(b.tree)"
   ]
  },
  {
   "cell_type": "code",
   "execution_count": 61,
   "id": "8b4d1a4d",
   "metadata": {},
   "outputs": [],
   "source": [
    "data1 = nxload('30K/f1_transform.nxs')"
   ]
  },
  {
   "cell_type": "code",
   "execution_count": 62,
   "id": "7b3fa2b9",
   "metadata": {},
   "outputs": [
    {
     "name": "stdout",
     "output_type": "stream",
     "text": [
      "root:NXroot\n",
      "  entry:NXgroup\n",
      "    data:NXgroup\n",
      "      n = float32(1201x1001x1001)\n",
      "      v = float32(1201x1001x1001)\n"
     ]
    }
   ],
   "source": [
    "print(data1.tree)"
   ]
  }
 ],
 "metadata": {
  "kernelspec": {
   "display_name": "Python 3 (ipykernel)",
   "language": "python",
   "name": "python3"
  },
  "language_info": {
   "codemirror_mode": {
    "name": "ipython",
    "version": 3
   },
   "file_extension": ".py",
   "mimetype": "text/x-python",
   "name": "python",
   "nbconvert_exporter": "python",
   "pygments_lexer": "ipython3",
   "version": "3.9.12"
  }
 },
 "nbformat": 4,
 "nbformat_minor": 5
}
