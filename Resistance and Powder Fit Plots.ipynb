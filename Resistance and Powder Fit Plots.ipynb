{
 "cells": [
  {
   "cell_type": "markdown",
   "id": "fd314baf",
   "metadata": {},
   "source": [
    "# Plotting in Python"
   ]
  },
  {
   "cell_type": "markdown",
   "id": "24633c0f",
   "metadata": {},
   "source": [
    "- There are many tutorials online for plotting using python\n",
    "- This tutorial will show some examples in context of your work\n",
    "\n",
    "######################################################################################################"
   ]
  },
  {
   "cell_type": "markdown",
   "id": "a748dc7c",
   "metadata": {},
   "source": [
    "## Plotting a resistance curve"
   ]
  },
  {
   "cell_type": "markdown",
   "id": "61b515c8",
   "metadata": {},
   "source": [
    "- Let's first do an example of plotting some resistivity data\n",
    "- First, we need to import the needed libraries\n",
    "- These contain all the functions used to import data, manipulate, and plot"
   ]
  },
  {
   "cell_type": "code",
   "execution_count": 55,
   "id": "b44db4d0",
   "metadata": {},
   "outputs": [],
   "source": [
    "import matplotlib # this is the matplotlib library, used for plotting data\n",
    "import matplotlib.pyplot as plt # here is a specific layer in the library I want explicitly imported\n",
    "import numpy as np # this is numpy, a library used for data science\n",
    "import pandas as pd # pandas is another data science library, useful for tabulating data\n",
    "import os # this library lets us change directories"
   ]
  },
  {
   "cell_type": "markdown",
   "id": "d2b71c95",
   "metadata": {},
   "source": [
    "- Now we import our data from the file into Python using pandas\n",
    "- You can do this with numpy as well, but pandas can handle more complex files more easily"
   ]
  },
  {
   "cell_type": "code",
   "execution_count": 56,
   "id": "c06d0230",
   "metadata": {},
   "outputs": [],
   "source": [
    "os.chdir('C:/Users/Jacob/Shoemaker_Data/Ta2Se8I_Data/Resistance_Data') # change directory to where your data file is contained"
   ]
  },
  {
   "cell_type": "code",
   "execution_count": 57,
   "id": "661076a5",
   "metadata": {
    "scrolled": false
   },
   "outputs": [
    {
     "data": {
      "text/html": [
       "<div>\n",
       "<style scoped>\n",
       "    .dataframe tbody tr th:only-of-type {\n",
       "        vertical-align: middle;\n",
       "    }\n",
       "\n",
       "    .dataframe tbody tr th {\n",
       "        vertical-align: top;\n",
       "    }\n",
       "\n",
       "    .dataframe thead th {\n",
       "        text-align: right;\n",
       "    }\n",
       "</style>\n",
       "<table border=\"1\" class=\"dataframe\">\n",
       "  <thead>\n",
       "    <tr style=\"text-align: right;\">\n",
       "      <th></th>\n",
       "      <th>Comment</th>\n",
       "      <th>Time_Stamp_(s)</th>\n",
       "      <th>Temperature_(K)</th>\n",
       "      <th>Field_(Oe)</th>\n",
       "      <th>Sample_Position_(deg)</th>\n",
       "      <th>Chamber_Pressure_(Torr)</th>\n",
       "      <th>Resistance_Ch1_(Ohms)</th>\n",
       "      <th>Resistance_Std._Dev._Ch1_(Ohms)</th>\n",
       "      <th>Phase_Angle_Ch1_(deg)</th>\n",
       "      <th>I-V_Current_Ch1_(mA)</th>\n",
       "      <th>...</th>\n",
       "      <th>ETO_Channel_7</th>\n",
       "      <th>ETO_Channel_8</th>\n",
       "      <th>ETO_Channel_9</th>\n",
       "      <th>ETO_Channel_10</th>\n",
       "      <th>ETO_Channel_11</th>\n",
       "      <th>ETO_Channel_12</th>\n",
       "      <th>ETO_Channel_13</th>\n",
       "      <th>ETO_Channel_14</th>\n",
       "      <th>ETO_Channel_15</th>\n",
       "      <th>ETO_Channel_16</th>\n",
       "    </tr>\n",
       "  </thead>\n",
       "  <tbody>\n",
       "    <tr>\n",
       "      <th>0</th>\n",
       "      <td>Ch. 2 Input voltage exceeded compliance limit.</td>\n",
       "      <td>3.857818e+09</td>\n",
       "      <td>299.998657</td>\n",
       "      <td>-0.288450</td>\n",
       "      <td>0</td>\n",
       "      <td>6.862</td>\n",
       "      <td>NaN</td>\n",
       "      <td>NaN</td>\n",
       "      <td>NaN</td>\n",
       "      <td>NaN</td>\n",
       "      <td>...</td>\n",
       "      <td>NaN</td>\n",
       "      <td>NaN</td>\n",
       "      <td>NaN</td>\n",
       "      <td>NaN</td>\n",
       "      <td>NaN</td>\n",
       "      <td>NaN</td>\n",
       "      <td>NaN</td>\n",
       "      <td>NaN</td>\n",
       "      <td>NaN</td>\n",
       "      <td>NaN</td>\n",
       "    </tr>\n",
       "    <tr>\n",
       "      <th>1</th>\n",
       "      <td>Ch. 2 Input voltage exceeded compliance limit.</td>\n",
       "      <td>3.857819e+09</td>\n",
       "      <td>299.481140</td>\n",
       "      <td>-0.252394</td>\n",
       "      <td>0</td>\n",
       "      <td>6.863</td>\n",
       "      <td>NaN</td>\n",
       "      <td>NaN</td>\n",
       "      <td>NaN</td>\n",
       "      <td>NaN</td>\n",
       "      <td>...</td>\n",
       "      <td>NaN</td>\n",
       "      <td>NaN</td>\n",
       "      <td>NaN</td>\n",
       "      <td>NaN</td>\n",
       "      <td>NaN</td>\n",
       "      <td>NaN</td>\n",
       "      <td>NaN</td>\n",
       "      <td>NaN</td>\n",
       "      <td>NaN</td>\n",
       "      <td>NaN</td>\n",
       "    </tr>\n",
       "    <tr>\n",
       "      <th>2</th>\n",
       "      <td>Ch. 2 Input voltage exceeded compliance limit.</td>\n",
       "      <td>3.857819e+09</td>\n",
       "      <td>298.969635</td>\n",
       "      <td>-0.288450</td>\n",
       "      <td>0</td>\n",
       "      <td>6.864</td>\n",
       "      <td>NaN</td>\n",
       "      <td>NaN</td>\n",
       "      <td>NaN</td>\n",
       "      <td>NaN</td>\n",
       "      <td>...</td>\n",
       "      <td>NaN</td>\n",
       "      <td>NaN</td>\n",
       "      <td>NaN</td>\n",
       "      <td>NaN</td>\n",
       "      <td>NaN</td>\n",
       "      <td>NaN</td>\n",
       "      <td>NaN</td>\n",
       "      <td>NaN</td>\n",
       "      <td>NaN</td>\n",
       "      <td>NaN</td>\n",
       "    </tr>\n",
       "    <tr>\n",
       "      <th>3</th>\n",
       "      <td>Ch. 2 Input voltage exceeded compliance limit.</td>\n",
       "      <td>3.857819e+09</td>\n",
       "      <td>298.465118</td>\n",
       "      <td>-0.288450</td>\n",
       "      <td>0</td>\n",
       "      <td>6.863</td>\n",
       "      <td>NaN</td>\n",
       "      <td>NaN</td>\n",
       "      <td>NaN</td>\n",
       "      <td>NaN</td>\n",
       "      <td>...</td>\n",
       "      <td>NaN</td>\n",
       "      <td>NaN</td>\n",
       "      <td>NaN</td>\n",
       "      <td>NaN</td>\n",
       "      <td>NaN</td>\n",
       "      <td>NaN</td>\n",
       "      <td>NaN</td>\n",
       "      <td>NaN</td>\n",
       "      <td>NaN</td>\n",
       "      <td>NaN</td>\n",
       "    </tr>\n",
       "    <tr>\n",
       "      <th>4</th>\n",
       "      <td>Ch. 2 Input voltage exceeded compliance limit.</td>\n",
       "      <td>3.857819e+09</td>\n",
       "      <td>297.961426</td>\n",
       "      <td>-0.276432</td>\n",
       "      <td>0</td>\n",
       "      <td>6.863</td>\n",
       "      <td>NaN</td>\n",
       "      <td>NaN</td>\n",
       "      <td>NaN</td>\n",
       "      <td>NaN</td>\n",
       "      <td>...</td>\n",
       "      <td>NaN</td>\n",
       "      <td>NaN</td>\n",
       "      <td>NaN</td>\n",
       "      <td>NaN</td>\n",
       "      <td>NaN</td>\n",
       "      <td>NaN</td>\n",
       "      <td>NaN</td>\n",
       "      <td>NaN</td>\n",
       "      <td>NaN</td>\n",
       "      <td>NaN</td>\n",
       "    </tr>\n",
       "  </tbody>\n",
       "</table>\n",
       "<p>5 rows × 67 columns</p>\n",
       "</div>"
      ],
      "text/plain": [
       "                                          Comment  Time_Stamp_(s)  \\\n",
       "0  Ch. 2 Input voltage exceeded compliance limit.    3.857818e+09   \n",
       "1  Ch. 2 Input voltage exceeded compliance limit.    3.857819e+09   \n",
       "2  Ch. 2 Input voltage exceeded compliance limit.    3.857819e+09   \n",
       "3  Ch. 2 Input voltage exceeded compliance limit.    3.857819e+09   \n",
       "4  Ch. 2 Input voltage exceeded compliance limit.    3.857819e+09   \n",
       "\n",
       "   Temperature_(K)  Field_(Oe)  Sample_Position_(deg)  \\\n",
       "0       299.998657   -0.288450                      0   \n",
       "1       299.481140   -0.252394                      0   \n",
       "2       298.969635   -0.288450                      0   \n",
       "3       298.465118   -0.288450                      0   \n",
       "4       297.961426   -0.276432                      0   \n",
       "\n",
       "   Chamber_Pressure_(Torr)  Resistance_Ch1_(Ohms)  \\\n",
       "0                    6.862                    NaN   \n",
       "1                    6.863                    NaN   \n",
       "2                    6.864                    NaN   \n",
       "3                    6.863                    NaN   \n",
       "4                    6.863                    NaN   \n",
       "\n",
       "   Resistance_Std._Dev._Ch1_(Ohms)  Phase_Angle_Ch1_(deg)  \\\n",
       "0                              NaN                    NaN   \n",
       "1                              NaN                    NaN   \n",
       "2                              NaN                    NaN   \n",
       "3                              NaN                    NaN   \n",
       "4                              NaN                    NaN   \n",
       "\n",
       "   I-V_Current_Ch1_(mA)  ...  ETO_Channel_7  ETO_Channel_8  ETO_Channel_9  \\\n",
       "0                   NaN  ...            NaN            NaN            NaN   \n",
       "1                   NaN  ...            NaN            NaN            NaN   \n",
       "2                   NaN  ...            NaN            NaN            NaN   \n",
       "3                   NaN  ...            NaN            NaN            NaN   \n",
       "4                   NaN  ...            NaN            NaN            NaN   \n",
       "\n",
       "   ETO_Channel_10  ETO_Channel_11  ETO_Channel_12  ETO_Channel_13  \\\n",
       "0             NaN             NaN             NaN             NaN   \n",
       "1             NaN             NaN             NaN             NaN   \n",
       "2             NaN             NaN             NaN             NaN   \n",
       "3             NaN             NaN             NaN             NaN   \n",
       "4             NaN             NaN             NaN             NaN   \n",
       "\n",
       "   ETO_Channel_14  ETO_Channel_15  ETO_Channel_16  \n",
       "0             NaN             NaN             NaN  \n",
       "1             NaN             NaN             NaN  \n",
       "2             NaN             NaN             NaN  \n",
       "3             NaN             NaN             NaN  \n",
       "4             NaN             NaN             NaN  \n",
       "\n",
       "[5 rows x 67 columns]"
      ]
     },
     "execution_count": 57,
     "metadata": {},
     "output_type": "execute_result"
    }
   ],
   "source": [
    "data = pd.read_csv('TSI_OQU1052_2nd_run_no_header.dat', sep=\",\", header=0) # read in csv file into pandas dataframe\n",
    "data.columns = data.columns.str.replace(' ', '_') # this replaces spaces with underscores\n",
    "data.head() # display the beginning of dataframe"
   ]
  },
  {
   "cell_type": "markdown",
   "id": "186caeb4",
   "metadata": {},
   "source": [
    "- Looks like we have a lot of information in this file\n",
    "- We just need the temperature and resitivity information from here\n",
    "- We can choose specific columns out of a pandas dataframe"
   ]
  },
  {
   "cell_type": "code",
   "execution_count": 58,
   "id": "080075c1",
   "metadata": {},
   "outputs": [],
   "source": [
    "y = data['Resistance_Ch2_(Ohms)'].values # grab values from specific column in dataframe\n",
    "x = data['Temperature_(K)'].values"
   ]
  },
  {
   "cell_type": "code",
   "execution_count": 123,
   "id": "a84e9e91",
   "metadata": {},
   "outputs": [
    {
     "data": {
      "text/plain": [
       "array([299.99865723, 299.48114014, 298.96963501, 298.46511841,\n",
       "       297.96142578, 297.46136475, 296.9637146 , 296.46749878,\n",
       "       295.46987915, 294.97106934, 294.47097778, 293.97210693,\n",
       "       293.47079468, 292.97128296, 292.47341919, 291.97192383,\n",
       "       291.47131348, 290.97195435, 290.47210693, 289.97024536,\n",
       "       289.47210693, 288.9708252 , 288.46829224, 287.97235107,\n",
       "       287.46682739, 286.97052002, 286.47033691, 285.47186279,\n",
       "       284.97164917, 284.47064209, 283.96844482, 283.46862793,\n",
       "       282.96780396, 282.4675293 , 281.9675293 , 281.47106934,\n",
       "       280.96914673, 280.46905518, 279.97409058, 279.47280884,\n",
       "       278.97076416, 278.46905518, 277.96862793, 277.46801758,\n",
       "       276.96975708, 276.47201538, 275.96789551, 275.46994019,\n",
       "       274.96890259, 274.47277832, 273.9710083 , 273.4737854 ,\n",
       "       272.97259521, 272.4692688 , 271.97277832, 270.97018433,\n",
       "       270.4682312 , 269.97039795, 269.46972656, 268.9677124 ,\n",
       "       268.47067261, 267.96713257, 267.47021484, 266.96694946,\n",
       "       266.46694946, 265.97262573, 265.47216797, 264.96954346,\n",
       "       264.47064209, 263.97198486, 263.47009277, 262.97003174,\n",
       "       262.46951294, 261.97064209, 261.46755981, 260.96990967,\n",
       "       260.46768188, 259.47268677, 258.97283936, 258.47189331,\n",
       "       257.97143555, 257.47192383, 256.97167969, 256.47073364,\n",
       "       255.96827698, 255.4667511 , 254.96922302, 254.46812439,\n",
       "       253.97096252, 253.47157288, 252.97241211, 252.47207642,\n",
       "       251.96965027, 251.46963501, 250.96960449, 250.46884155,\n",
       "       249.96708679, 249.46890259, 248.97029114, 248.47270203,\n",
       "       247.97167969, 247.47174072, 246.97296143, 245.97064209,\n",
       "       244.97093201, 243.97132874, 242.97129822, 242.46966553,\n",
       "       241.97026062, 241.47229004, 240.47233582, 239.47114563,\n",
       "       238.47207642, 237.97044373, 237.47135925, 236.9690094 ,\n",
       "       236.47335815, 235.97164917, 235.46765137, 234.96783447,\n",
       "       234.46697998, 233.9666748 , 233.4664917 , 232.96907043,\n",
       "       232.47071838, 231.96968079, 231.46887207, 230.96777344,\n",
       "       230.46844482, 229.96859741, 229.46878052, 228.96807861,\n",
       "       228.46846008, 227.96723938, 227.46710205, 226.9664917 ,\n",
       "       226.46690369, 225.96759033, 225.46954346, 224.97198486,\n",
       "       224.47137451, 223.96884155, 223.47097778, 222.96655273,\n",
       "       222.46923828, 221.97338867, 221.47410583, 220.96733093,\n",
       "       220.46893311, 219.96662903, 219.46691895, 218.47164917,\n",
       "       217.47319031, 216.97328186, 216.46943665, 215.96981812,\n",
       "       215.46795654, 214.96723938, 214.46620178, 213.96577454,\n",
       "       213.47018433, 212.96792603, 212.47161865, 211.96981812,\n",
       "       210.96871948, 210.47061157, 209.96875   , 209.46870422,\n",
       "       208.96730042, 208.46818542, 207.96759033, 207.470047  ,\n",
       "       206.96562195, 206.46856689, 205.96788025, 205.46839905,\n",
       "       204.9684906 , 204.46765137, 203.96662903, 203.46635437,\n",
       "       202.47268677, 201.97233582, 201.47108459, 200.96882629,\n",
       "       200.46801758, 199.96885681, 199.46743774, 198.96688843,\n",
       "       198.46838379, 197.96968079, 196.96907043, 196.47218323,\n",
       "       195.97402954, 195.47261047, 194.96759033, 194.4710083 ,\n",
       "       193.96824646, 193.46594238, 192.96757507, 191.96914673,\n",
       "       191.4691925 , 190.97305298, 190.46977234, 189.97019958,\n",
       "       189.46891785, 188.96791077, 188.47071838, 187.96569824,\n",
       "       187.46630859, 186.96627808, 186.46842957, 185.97062683,\n",
       "       185.46936035, 184.96957397, 184.46821594, 183.96699524,\n",
       "       183.46907043, 182.97273254, 182.47164917, 181.96917725,\n",
       "       181.46881104, 180.96736145, 180.46681213, 179.96676636,\n",
       "       179.46983337, 178.96987915, 178.46974182, 177.96887207,\n",
       "       177.46987915, 176.96878052, 176.46815491, 175.96702576,\n",
       "       175.46884155, 174.97009277, 174.47166443, 173.96931458,\n",
       "       173.46696472, 172.96568298, 172.46868896, 171.47007751,\n",
       "       170.97071838, 169.97067261, 168.97006226, 168.47135925,\n",
       "       167.97094727, 167.46937561, 166.96887207, 166.46824646,\n",
       "       165.96875   , 165.47015381, 164.97059631, 164.46792603,\n",
       "       163.9683075 , 163.46868896, 162.97119141, 162.47181702,\n",
       "       161.97087097, 161.46934509, 160.96951294, 160.46939087,\n",
       "       159.96885681, 159.46882629, 158.96763611, 158.47157288,\n",
       "       157.97174072, 157.47045898, 156.96989441, 156.46914673,\n",
       "       155.96846008, 155.46861267, 154.96882629, 154.4697113 ,\n",
       "       153.97323608, 153.47050476, 152.97010803, 152.47164917,\n",
       "       151.97143555, 151.47108459, 150.96871948, 150.46832275,\n",
       "       149.96839905, 149.98406982, 150.52090454, 151.0328064 ,\n",
       "       151.53392029, 152.03222656, 152.53218079, 153.03160095,\n",
       "       153.53005981, 154.03030396, 154.52900696, 155.02957153,\n",
       "       155.52966309, 156.02940369, 156.52972412, 157.02909851,\n",
       "       157.52958679, 158.02845764, 158.52877808, 159.0296936 ,\n",
       "       159.52876282, 160.02966309, 160.5302887 , 161.02975464,\n",
       "       161.52966309, 162.02961731, 162.52972412, 163.0294342 ,\n",
       "       163.52964783, 164.0297699 , 164.53045654, 165.03019714,\n",
       "       165.52944946, 166.0289917 , 166.53004456, 167.02980042,\n",
       "       167.53016663, 168.03031921, 168.53039551, 169.0289917 ,\n",
       "       169.52929688, 170.02955627, 170.53001404, 171.02961731,\n",
       "       171.5294342 , 172.02980042, 172.52781677, 173.02839661,\n",
       "       173.5280304 , 174.02676392, 174.52996826, 175.02758789,\n",
       "       175.53085327, 176.02770996, 176.52934265, 177.02230835,\n",
       "       177.52391052, 178.02728271, 178.52684021, 179.02714539,\n",
       "       179.53070068, 180.02763367, 180.52766418, 181.03190613,\n",
       "       181.52807617, 182.02932739, 182.52920532, 183.02874756,\n",
       "       183.53031921, 184.03036499, 184.53059387, 185.02888489,\n",
       "       185.52902222, 186.02896118, 186.53013611, 187.03048706,\n",
       "       187.53076172, 188.02877808, 188.53059387, 189.03019714,\n",
       "       189.5305481 , 190.03041077, 190.52970886, 191.02835083,\n",
       "       191.53007507, 192.03013611, 192.52978516, 193.02989197,\n",
       "       193.52850342, 194.02966309, 194.5302124 , 195.03036499,\n",
       "       195.52870178, 196.02832031, 196.53012085, 197.029953  ,\n",
       "       197.52980042, 198.02818298, 198.52807617, 199.0294342 ,\n",
       "       199.52868652, 200.02854919, 200.52992249, 201.03015137,\n",
       "       201.5279541 , 202.02827454, 202.52830505, 203.02868652,\n",
       "       203.52915955, 204.02731323, 204.52787781, 205.02737427,\n",
       "       205.52816772, 206.03044128, 206.53019714, 207.03109741,\n",
       "       207.52813721, 208.02836609, 208.52841187, 209.03056335,\n",
       "       209.52894592, 210.03031921, 210.53024292, 211.03030396,\n",
       "       211.53057861, 212.03036499, 212.52970886, 213.02755737,\n",
       "       213.52346802, 214.02624512, 214.52682495, 215.02955627,\n",
       "       215.52963257, 216.03007507, 216.52746582, 217.02857971,\n",
       "       217.52955627, 218.02967834, 218.52949524, 219.02966309,\n",
       "       219.52983093, 220.03010559, 220.52970886, 221.03013611,\n",
       "       221.52973938, 222.03010559, 222.52886963, 223.0280304 ,\n",
       "       223.52947998, 224.02932739, 224.52798462, 225.02954102,\n",
       "       225.52722168, 226.02967834, 226.53038025, 227.02822876,\n",
       "       227.52973938, 228.03030396, 228.52819824, 229.02279663,\n",
       "       229.52726746, 230.02842712, 230.52871704, 231.02984619,\n",
       "       231.52992249, 232.0279541 , 232.52412415, 233.02659607,\n",
       "       233.52883911, 234.02807617, 234.5275116 , 235.02423096,\n",
       "       235.52664185, 236.02835083, 236.52815247, 237.0292511 ,\n",
       "       237.52944946, 238.02842712, 238.52622986, 239.02729797,\n",
       "       239.52734375, 240.02789307, 240.52909851, 241.02886963,\n",
       "       241.52792358, 242.02929688, 242.52922058, 243.02735901,\n",
       "       243.52806091, 244.02825928, 244.5292511 , 245.02703857,\n",
       "       245.52334595, 246.02511597, 246.52807617, 247.0284729 ,\n",
       "       247.52801514, 248.02740479, 248.52371216, 249.02560425,\n",
       "       249.52801514, 250.02914429, 250.52894592, 251.02577209,\n",
       "       251.52622986, 252.03036499, 252.52682495, 253.02676392,\n",
       "       253.52713013, 254.03039551, 254.52868652, 255.02687073,\n",
       "       255.52711487, 256.0269165 , 256.52886963, 257.0272522 ,\n",
       "       257.5256958 , 258.03027344, 258.53067017, 259.02609253,\n",
       "       259.52655029, 260.02368164, 260.52294922, 261.02322388,\n",
       "       261.52529907, 262.02590942, 262.52105713, 263.02252197,\n",
       "       263.52740479, 264.02783203, 264.52606201, 265.02716064,\n",
       "       265.52746582, 266.02676392, 266.52844238, 267.02609253,\n",
       "       267.52874756, 268.02685547, 268.52624512, 269.02798462,\n",
       "       269.52978516, 270.02963257, 270.52954102, 271.02734375,\n",
       "       271.5269165 , 272.02456665, 272.52655029, 273.02584839,\n",
       "       273.52441406, 274.025177  , 274.52648926, 275.02944946,\n",
       "       275.52987671, 276.02880859, 276.52996826, 277.02926636,\n",
       "       277.52981567, 278.03039551, 278.53018188, 279.03070068,\n",
       "       279.52471924, 280.02740479, 280.52670288, 281.02728271,\n",
       "       281.53060913, 282.02941895, 282.5296936 , 283.02972412,\n",
       "       283.53009033, 284.02926636, 284.5296936 , 285.02929688,\n",
       "       285.52697754, 286.02642822, 286.52224731, 287.02346802,\n",
       "       287.52877808, 288.02853394, 288.52703857, 289.02984619,\n",
       "       289.52874756, 290.02947998, 290.52682495, 291.02679443,\n",
       "       291.52990723, 292.02966309, 292.52813721, 293.02203369,\n",
       "       293.52664185, 294.02536011, 294.5289917 , 295.0272522 ,\n",
       "       295.53005981, 296.02511597, 296.52236938, 297.02615356,\n",
       "       297.52627563, 298.02920532, 298.52883911, 299.0295105 ,\n",
       "       299.52685547, 300.02920532])"
      ]
     },
     "execution_count": 123,
     "metadata": {},
     "output_type": "execute_result"
    }
   ],
   "source": [
    "x"
   ]
  },
  {
   "cell_type": "code",
   "execution_count": 124,
   "id": "f4edeb0e",
   "metadata": {},
   "outputs": [],
   "source": [
    "x_lower = x[:280]\n",
    "y_lower = y[:280]\n",
    "x_raise = x[280:]\n",
    "y_raise = y[280:]"
   ]
  },
  {
   "cell_type": "markdown",
   "id": "1c0d759a",
   "metadata": {},
   "source": [
    "- Now we can plot these using matplotlib"
   ]
  },
  {
   "cell_type": "code",
   "execution_count": 78,
   "id": "63c2cd29",
   "metadata": {},
   "outputs": [
    {
     "data": {
      "text/plain": [
       "Text(0, 0.5, '$\\\\rho$ ($\\\\Omega$)')"
      ]
     },
     "execution_count": 78,
     "metadata": {},
     "output_type": "execute_result"
    },
    {
     "data": {
      "image/png": "[encoded data removed]",
      "text/plain": [
       "<Figure size 504x288 with 1 Axes>"
      ]
     },
     "metadata": {
      "needs_background": "light"
     },
     "output_type": "display_data"
    }
   ],
   "source": [
    "# some particular parameters that I want\n",
    "matplotlib.rcParams['font.sans-serif'] = \"arial\"\n",
    "# Then, \"ALWAYS use sans-serif fonts\"\n",
    "matplotlib.rcParams['font.family'] = \"sans-serif\"\n",
    "plt.rcParams.update({'font.size': 22})\n",
    "plt.rcParams[\"figure.figsize\"] = (7,4)\n",
    "\n",
    "plt.scatter(x,y,s = 20, facecolors='none', edgecolors='orange')\n",
    "plt.xlabel('Temperature (K)') \n",
    "plt.ylabel(r'$\\rho$ ($\\Omega$)')"
   ]
  },
  {
   "cell_type": "code",
   "execution_count": 73,
   "id": "abbacd6a",
   "metadata": {},
   "outputs": [
    {
     "data": {
      "text/plain": [
       "(200.0, 300.0)"
      ]
     },
     "execution_count": 73,
     "metadata": {},
     "output_type": "execute_result"
    },
    {
     "data": {
      "image/png": "[encoded data removed]",
      "text/plain": [
       "<Figure size 504x288 with 1 Axes>"
      ]
     },
     "metadata": {
      "needs_background": "light"
     },
     "output_type": "display_data"
    }
   ],
   "source": [
    "plt.scatter(x,y,s = 20, facecolors='none', edgecolors='orange')\n",
    "plt.xlabel('Temperature (K)') \n",
    "plt.ylabel(r'$\\rho$ ($\\Omega$)')\n",
    "plt.xlim(150,160)\n",
    "plt.ylim(200,300)"
   ]
  },
  {
   "cell_type": "code",
   "execution_count": 130,
   "id": "3161e780",
   "metadata": {},
   "outputs": [
    {
     "data": {
      "text/plain": [
       "(0.6, 1.5)"
      ]
     },
     "execution_count": 130,
     "metadata": {},
     "output_type": "execute_result"
    },
    {
     "data": {
      "image/png": "[encoded data removed]",
      "text/plain": [
       "<Figure size 504x288 with 1 Axes>"
      ]
     },
     "metadata": {
      "needs_background": "light"
     },
     "output_type": "display_data"
    }
   ],
   "source": [
    "plt.scatter(x_lower,y_lower,s = 20, facecolors='none', edgecolors='blue')\n",
    "plt.scatter(x_raise,y_raise,s = 20, facecolors='none', edgecolors='orange')\n",
    "plt.xlabel('Temperature (K)') \n",
    "plt.ylabel(r'$\\rho$ ($\\Omega$)')\n",
    "plt.xlim(180,300)\n",
    "plt.ylim(0.6,1.5)"
   ]
  },
  {
   "cell_type": "code",
   "execution_count": 62,
   "id": "55b4c644",
   "metadata": {},
   "outputs": [
    {
     "data": {
      "text/html": [
       "<div>\n",
       "<style scoped>\n",
       "    .dataframe tbody tr th:only-of-type {\n",
       "        vertical-align: middle;\n",
       "    }\n",
       "\n",
       "    .dataframe tbody tr th {\n",
       "        vertical-align: top;\n",
       "    }\n",
       "\n",
       "    .dataframe thead th {\n",
       "        text-align: right;\n",
       "    }\n",
       "</style>\n",
       "<table border=\"1\" class=\"dataframe\">\n",
       "  <thead>\n",
       "    <tr style=\"text-align: right;\">\n",
       "      <th></th>\n",
       "      <th>Comment</th>\n",
       "      <th>Time_Stamp_(s)</th>\n",
       "      <th>Temperature_(K)</th>\n",
       "      <th>Field_(Oe)</th>\n",
       "      <th>Sample_Position_(deg)</th>\n",
       "      <th>Chamber_Pressure_(Torr)</th>\n",
       "      <th>Resistance_Ch1_(Ohms)</th>\n",
       "      <th>Resistance_Std._Dev._Ch1_(Ohms)</th>\n",
       "      <th>Phase_Angle_Ch1_(deg)</th>\n",
       "      <th>I-V_Current_Ch1_(mA)</th>\n",
       "      <th>...</th>\n",
       "      <th>ETO_Channel_7</th>\n",
       "      <th>ETO_Channel_8</th>\n",
       "      <th>ETO_Channel_9</th>\n",
       "      <th>ETO_Channel_10</th>\n",
       "      <th>ETO_Channel_11</th>\n",
       "      <th>ETO_Channel_12</th>\n",
       "      <th>ETO_Channel_13</th>\n",
       "      <th>ETO_Channel_14</th>\n",
       "      <th>ETO_Channel_15</th>\n",
       "      <th>ETO_Channel_16</th>\n",
       "    </tr>\n",
       "  </thead>\n",
       "  <tbody>\n",
       "    <tr>\n",
       "      <th>0</th>\n",
       "      <td>NaN</td>\n",
       "      <td>3.860741e+09</td>\n",
       "      <td>290.050934</td>\n",
       "      <td>-0.324507</td>\n",
       "      <td>0</td>\n",
       "      <td>7.591</td>\n",
       "      <td>NaN</td>\n",
       "      <td>NaN</td>\n",
       "      <td>NaN</td>\n",
       "      <td>NaN</td>\n",
       "      <td>...</td>\n",
       "      <td>NaN</td>\n",
       "      <td>NaN</td>\n",
       "      <td>NaN</td>\n",
       "      <td>NaN</td>\n",
       "      <td>NaN</td>\n",
       "      <td>NaN</td>\n",
       "      <td>NaN</td>\n",
       "      <td>NaN</td>\n",
       "      <td>NaN</td>\n",
       "      <td>NaN</td>\n",
       "    </tr>\n",
       "    <tr>\n",
       "      <th>1</th>\n",
       "      <td>NaN</td>\n",
       "      <td>3.860741e+09</td>\n",
       "      <td>289.493713</td>\n",
       "      <td>-0.324507</td>\n",
       "      <td>0</td>\n",
       "      <td>7.594</td>\n",
       "      <td>NaN</td>\n",
       "      <td>NaN</td>\n",
       "      <td>NaN</td>\n",
       "      <td>NaN</td>\n",
       "      <td>...</td>\n",
       "      <td>NaN</td>\n",
       "      <td>NaN</td>\n",
       "      <td>NaN</td>\n",
       "      <td>NaN</td>\n",
       "      <td>NaN</td>\n",
       "      <td>NaN</td>\n",
       "      <td>NaN</td>\n",
       "      <td>NaN</td>\n",
       "      <td>NaN</td>\n",
       "      <td>NaN</td>\n",
       "    </tr>\n",
       "    <tr>\n",
       "      <th>2</th>\n",
       "      <td>NaN</td>\n",
       "      <td>3.860741e+09</td>\n",
       "      <td>288.986664</td>\n",
       "      <td>-0.312488</td>\n",
       "      <td>0</td>\n",
       "      <td>7.597</td>\n",
       "      <td>NaN</td>\n",
       "      <td>NaN</td>\n",
       "      <td>NaN</td>\n",
       "      <td>NaN</td>\n",
       "      <td>...</td>\n",
       "      <td>NaN</td>\n",
       "      <td>NaN</td>\n",
       "      <td>NaN</td>\n",
       "      <td>NaN</td>\n",
       "      <td>NaN</td>\n",
       "      <td>NaN</td>\n",
       "      <td>NaN</td>\n",
       "      <td>NaN</td>\n",
       "      <td>NaN</td>\n",
       "      <td>NaN</td>\n",
       "    </tr>\n",
       "    <tr>\n",
       "      <th>3</th>\n",
       "      <td>NaN</td>\n",
       "      <td>3.860741e+09</td>\n",
       "      <td>288.484497</td>\n",
       "      <td>-0.348544</td>\n",
       "      <td>0</td>\n",
       "      <td>7.599</td>\n",
       "      <td>NaN</td>\n",
       "      <td>NaN</td>\n",
       "      <td>NaN</td>\n",
       "      <td>NaN</td>\n",
       "      <td>...</td>\n",
       "      <td>NaN</td>\n",
       "      <td>NaN</td>\n",
       "      <td>NaN</td>\n",
       "      <td>NaN</td>\n",
       "      <td>NaN</td>\n",
       "      <td>NaN</td>\n",
       "      <td>NaN</td>\n",
       "      <td>NaN</td>\n",
       "      <td>NaN</td>\n",
       "      <td>NaN</td>\n",
       "    </tr>\n",
       "    <tr>\n",
       "      <th>4</th>\n",
       "      <td>NaN</td>\n",
       "      <td>3.860741e+09</td>\n",
       "      <td>287.982056</td>\n",
       "      <td>-0.348544</td>\n",
       "      <td>0</td>\n",
       "      <td>7.601</td>\n",
       "      <td>NaN</td>\n",
       "      <td>NaN</td>\n",
       "      <td>NaN</td>\n",
       "      <td>NaN</td>\n",
       "      <td>...</td>\n",
       "      <td>NaN</td>\n",
       "      <td>NaN</td>\n",
       "      <td>NaN</td>\n",
       "      <td>NaN</td>\n",
       "      <td>NaN</td>\n",
       "      <td>NaN</td>\n",
       "      <td>NaN</td>\n",
       "      <td>NaN</td>\n",
       "      <td>NaN</td>\n",
       "      <td>NaN</td>\n",
       "    </tr>\n",
       "  </tbody>\n",
       "</table>\n",
       "<p>5 rows × 67 columns</p>\n",
       "</div>"
      ],
      "text/plain": [
       "   Comment  Time_Stamp_(s)  Temperature_(K)  Field_(Oe)  \\\n",
       "0      NaN    3.860741e+09       290.050934   -0.324507   \n",
       "1      NaN    3.860741e+09       289.493713   -0.324507   \n",
       "2      NaN    3.860741e+09       288.986664   -0.312488   \n",
       "3      NaN    3.860741e+09       288.484497   -0.348544   \n",
       "4      NaN    3.860741e+09       287.982056   -0.348544   \n",
       "\n",
       "   Sample_Position_(deg)  Chamber_Pressure_(Torr)  Resistance_Ch1_(Ohms)  \\\n",
       "0                      0                    7.591                    NaN   \n",
       "1                      0                    7.594                    NaN   \n",
       "2                      0                    7.597                    NaN   \n",
       "3                      0                    7.599                    NaN   \n",
       "4                      0                    7.601                    NaN   \n",
       "\n",
       "   Resistance_Std._Dev._Ch1_(Ohms)  Phase_Angle_Ch1_(deg)  \\\n",
       "0                              NaN                    NaN   \n",
       "1                              NaN                    NaN   \n",
       "2                              NaN                    NaN   \n",
       "3                              NaN                    NaN   \n",
       "4                              NaN                    NaN   \n",
       "\n",
       "   I-V_Current_Ch1_(mA)  ...  ETO_Channel_7  ETO_Channel_8  ETO_Channel_9  \\\n",
       "0                   NaN  ...            NaN            NaN            NaN   \n",
       "1                   NaN  ...            NaN            NaN            NaN   \n",
       "2                   NaN  ...            NaN            NaN            NaN   \n",
       "3                   NaN  ...            NaN            NaN            NaN   \n",
       "4                   NaN  ...            NaN            NaN            NaN   \n",
       "\n",
       "   ETO_Channel_10  ETO_Channel_11  ETO_Channel_12  ETO_Channel_13  \\\n",
       "0             NaN             NaN             NaN             NaN   \n",
       "1             NaN             NaN             NaN             NaN   \n",
       "2             NaN             NaN             NaN             NaN   \n",
       "3             NaN             NaN             NaN             NaN   \n",
       "4             NaN             NaN             NaN             NaN   \n",
       "\n",
       "   ETO_Channel_14  ETO_Channel_15  ETO_Channel_16  \n",
       "0             NaN             NaN             NaN  \n",
       "1             NaN             NaN             NaN  \n",
       "2             NaN             NaN             NaN  \n",
       "3             NaN             NaN             NaN  \n",
       "4             NaN             NaN             NaN  \n",
       "\n",
       "[5 rows x 67 columns]"
      ]
     },
     "execution_count": 62,
     "metadata": {},
     "output_type": "execute_result"
    }
   ],
   "source": [
    "data1 = pd.read_csv('TSI_OQU1052_2nd_sample_no_header.dat', sep=\",\", header=0) # read in csv file into pandas dataframe\n",
    "data1.columns = data.columns.str.replace(' ', '_') # this replaces spaces with underscores\n",
    "data1.head() # display the beginning of dataframe"
   ]
  },
  {
   "cell_type": "code",
   "execution_count": 65,
   "id": "9a05c524",
   "metadata": {},
   "outputs": [],
   "source": [
    "y1 = data1['Resistance_Ch2_(Ohms)'].values # grab values from specific column in dataframe\n",
    "x1 = data1['Temperature_(K)'].values"
   ]
  },
  {
   "cell_type": "code",
   "execution_count": 72,
   "id": "e9096286",
   "metadata": {},
   "outputs": [
    {
     "data": {
      "text/plain": [
       "(0.14, 0.18)"
      ]
     },
     "execution_count": 72,
     "metadata": {},
     "output_type": "execute_result"
    },
    {
     "data": {
      "image/png": "[encoded data removed]",
      "text/plain": [
       "<Figure size 504x288 with 1 Axes>"
      ]
     },
     "metadata": {
      "needs_background": "light"
     },
     "output_type": "display_data"
    }
   ],
   "source": [
    "plt.scatter(x1,y1,s = 20, facecolors='none', edgecolors='orange')\n",
    "plt.xlabel('Temperature (K)') \n",
    "plt.ylabel(r'$\\rho$ ($\\Omega$)')\n",
    "plt.xlim(255,265)\n",
    "plt.ylim(0.14,0.18)"
   ]
  },
  {
   "cell_type": "markdown",
   "id": "b8745c89",
   "metadata": {},
   "source": [
    "#################################################################################################"
   ]
  },
  {
   "cell_type": "markdown",
   "id": "b1e95c94",
   "metadata": {},
   "source": [
    "## Plotting Powder Fits"
   ]
  },
  {
   "cell_type": "code",
   "execution_count": 9,
   "id": "55f372bb",
   "metadata": {},
   "outputs": [],
   "source": [
    "import matplotlib # this is the matplotlib library, used for plotting data\n",
    "import matplotlib.pyplot as plt # here is a specific layer in the library I want explicitly imported\n",
    "import numpy as np # this is numpy, a library used for data science\n",
    "import pandas as pd # pandas is another data science library, useful for tabulating data\n",
    "import os # this library lets us change directories"
   ]
  },
  {
   "cell_type": "code",
   "execution_count": 12,
   "id": "88520e28",
   "metadata": {},
   "outputs": [
    {
     "data": {
      "text/html": [
       "<div>\n",
       "<style scoped>\n",
       "    .dataframe tbody tr th:only-of-type {\n",
       "        vertical-align: middle;\n",
       "    }\n",
       "\n",
       "    .dataframe tbody tr th {\n",
       "        vertical-align: top;\n",
       "    }\n",
       "\n",
       "    .dataframe thead th {\n",
       "        text-align: right;\n",
       "    }\n",
       "</style>\n",
       "<table border=\"1\" class=\"dataframe\">\n",
       "  <thead>\n",
       "    <tr style=\"text-align: right;\">\n",
       "      <th></th>\n",
       "      <th>x</th>\n",
       "      <th>y_obs</th>\n",
       "      <th>weight</th>\n",
       "      <th>y_calc</th>\n",
       "      <th>y_bkg</th>\n",
       "    </tr>\n",
       "  </thead>\n",
       "  <tbody>\n",
       "    <tr>\n",
       "      <th>0</th>\n",
       "      <td>4.000</td>\n",
       "      <td>1084.0</td>\n",
       "      <td>0.00092</td>\n",
       "      <td>1099.643</td>\n",
       "      <td>1096.631</td>\n",
       "    </tr>\n",
       "    <tr>\n",
       "      <th>1</th>\n",
       "      <td>4.016</td>\n",
       "      <td>1135.0</td>\n",
       "      <td>0.00088</td>\n",
       "      <td>1096.263</td>\n",
       "      <td>1093.204</td>\n",
       "    </tr>\n",
       "    <tr>\n",
       "      <th>2</th>\n",
       "      <td>4.033</td>\n",
       "      <td>1099.0</td>\n",
       "      <td>0.00091</td>\n",
       "      <td>1092.893</td>\n",
       "      <td>1089.789</td>\n",
       "    </tr>\n",
       "    <tr>\n",
       "      <th>3</th>\n",
       "      <td>4.049</td>\n",
       "      <td>1091.0</td>\n",
       "      <td>0.00092</td>\n",
       "      <td>1089.536</td>\n",
       "      <td>1086.383</td>\n",
       "    </tr>\n",
       "    <tr>\n",
       "      <th>4</th>\n",
       "      <td>4.066</td>\n",
       "      <td>1125.0</td>\n",
       "      <td>0.00089</td>\n",
       "      <td>1086.189</td>\n",
       "      <td>1082.988</td>\n",
       "    </tr>\n",
       "  </tbody>\n",
       "</table>\n",
       "</div>"
      ],
      "text/plain": [
       "       x   y_obs   weight    y_calc     y_bkg\n",
       "0  4.000  1084.0  0.00092  1099.643  1096.631\n",
       "1  4.016  1135.0  0.00088  1096.263  1093.204\n",
       "2  4.033  1099.0  0.00091  1092.893  1089.789\n",
       "3  4.049  1091.0  0.00092  1089.536  1086.383\n",
       "4  4.066  1125.0  0.00089  1086.189  1082.988"
      ]
     },
     "execution_count": 12,
     "metadata": {},
     "output_type": "execute_result"
    }
   ],
   "source": [
    "os.chdir('C:/Users/Jacob/Shoemaker_Data/Ta2Se8I_Data/Powder_XRD') # change directory to where your data file is contained\n",
    "    \n",
    "data = pd.read_csv('(TaSe4)2I_OQU1134_export.txt',delimiter= '\\s+') # delimiter is set to search for spaces between entries\n",
    "data.columns = data.columns.str.replace(' ', '_') # this replaces spaces with underscores\n",
    "data.head() # display the beginning of dataframe"
   ]
  },
  {
   "cell_type": "markdown",
   "id": "fc9b37a1",
   "metadata": {},
   "source": [
    "- Let's go ahead and plot the y_obs, y_calc, and (y_obs - y_calc)"
   ]
  },
  {
   "cell_type": "code",
   "execution_count": 13,
   "id": "949f2e7e",
   "metadata": {},
   "outputs": [],
   "source": [
    "# get our values out of the pandas dataframe\n",
    "x = data['x'].values\n",
    "y_obs = data['y_obs'].values\n",
    "weight = data['weight'].values\n",
    "y_calc = data['y_calc'].values\n",
    "y_bkg = data['y_bkg'].values\n",
    "y_diff = y_obs - y_calc"
   ]
  },
  {
   "cell_type": "markdown",
   "id": "9b1c7eac",
   "metadata": {},
   "source": [
    "- this time around we are going to create an explicit axis object to plot with\n",
    "- this is very useful for defining parameters and plotting multiple subplots"
   ]
  },
  {
   "cell_type": "code",
   "execution_count": 15,
   "id": "ffd0606a",
   "metadata": {},
   "outputs": [
    {
     "data": {
      "image/png": "[encoded data removed]",
      "text/plain": [
       "<Figure size 504x288 with 1 Axes>"
      ]
     },
     "metadata": {
      "needs_background": "light"
     },
     "output_type": "display_data"
    }
   ],
   "source": [
    "# some particular parameters that I want\n",
    "matplotlib.rcParams['font.sans-serif'] = \"arial\"\n",
    "# Then, \"ALWAYS use sans-serif fonts\"\n",
    "matplotlib.rcParams['font.family'] = \"sans-serif\"\n",
    "plt.rcParams.update({'font.size': 22})\n",
    "plt.rcParams[\"figure.figsize\"] = (7,4)\n",
    "matplotlib.rcParams['mathtext.default'] = 'regular'\n",
    "\n",
    "# here we create the figure object (fig)\n",
    "# at the same time, we add an axis to that figure which can be used to plot with (ax)\n",
    "fig, ax = plt.subplots()\n",
    "\n",
    "# first, let's plot the observed data as scatter plot\n",
    "ax.scatter(x, y_obs, s=20, marker='+')\n",
    "\n",
    "# turn on the minor ticks\n",
    "ax.minorticks_on()\n",
    "\n",
    "# here we set the y axis to use scientific notation\n",
    "ax.ticklabel_format(style='sci', axis='y', scilimits=(0,0))\n",
    "\n",
    "# add in axes labels\n",
    "ax.set_xlabel(r'MoK$\\alpha$ 2$\\theta$' + u' (\\N{DEGREE SIGN})')\n",
    "ax.set_ylabel('Intensity (a.u.)')\n",
    "\n",
    "# change tick parameters\n",
    "ax.tick_params(which='major', length=5, width=3)\n",
    "ax.tick_params(which='minor', length=3, width=2)"
   ]
  },
  {
   "cell_type": "markdown",
   "id": "23e55bec",
   "metadata": {},
   "source": [
    "- now let's add in the other data as line plots\n",
    "- Also, add in a legend. You must give each plot a label."
   ]
  },
  {
   "cell_type": "code",
   "execution_count": 40,
   "id": "4e7cce03",
   "metadata": {},
   "outputs": [
    {
     "data": {
      "image/png": "[encoded data removed]",
      "text/plain": [
       "<Figure size 720x504 with 1 Axes>"
      ]
     },
     "metadata": {
      "needs_background": "light"
     },
     "output_type": "display_data"
    }
   ],
   "source": [
    "# some particular parameters that I want\n",
    "matplotlib.rcParams['font.sans-serif'] = \"arial\"\n",
    "# Then, \"ALWAYS use sans-serif fonts\"\n",
    "matplotlib.rcParams['font.family'] = \"sans-serif\"\n",
    "plt.rcParams.update({'font.size': 25})\n",
    "plt.rcParams[\"figure.figsize\"] = (10,7)\n",
    "matplotlib.rcParams['mathtext.default'] = 'regular'\n",
    "\n",
    "# here we create the figure object (fig)\n",
    "# at the same time, we add an axis to that figure which can be used to plot with (ax)\n",
    "fig, ax = plt.subplots()\n",
    "\n",
    "# first, let's plot the observed data as scatter plot\n",
    "# make sure to specify a label for the plot\n",
    "ax.scatter(x, y_obs, s=20, marker='+', label='Data')\n",
    "\n",
    "# then, on the same axis, plot the other data we want\n",
    "ax.plot(x, y_calc, color = 'red', label = 'Fit')\n",
    "ax.plot(x, y_obs - y_calc, color = 'mediumturquoise', label = 'Diff')\n",
    "\n",
    "# turn on the minor ticks\n",
    "ax.minorticks_on()\n",
    "\n",
    "# here we set the y axis to use scientific notation\n",
    "ax.ticklabel_format(style='sci', axis='y', scilimits=(0,0))\n",
    "\n",
    "# add in axes labels\n",
    "ax.set_xlabel(r'MoK$\\alpha$ 2$\\theta$' + u' (\\N{DEGREE SIGN})')\n",
    "ax.set_ylabel('Intensity (a.u.)')\n",
    "\n",
    "# change tick parameters\n",
    "ax.tick_params(which='major', length=5, width=3)\n",
    "ax.tick_params(which='minor', length=3, width=2)\n",
    "\n",
    "# limit the x axis extent, if needed\n",
    "ax.set_xlim(3,30)\n",
    "ax.set_ylim()\n",
    "\n",
    "# add legend\n",
    "handles, labels = ax.get_legend_handles_labels()\n",
    "# remove the errorbars\n",
    "#handles = [h[0] for h in handles]\n",
    "# use them in the legend\n",
    "ax.legend(handles, labels, loc=(0.65,0.6),numpoints=1,frameon=False,markerscale=1.6,fontsize=19.5)\n",
    "#plt.legend(frameon=False, loc = (0.7,0.6))\n",
    "ax.yaxis.set_label_coords(-0.055, 0.5)\n",
    "\n",
    "plt.savefig('C:/Users/Jacob/Downloads/Ta2Se8I_Powder_Fit.png',dpi=170,bbox_inches = 'tight', pad_inches = .018)"
   ]
  },
  {
   "cell_type": "code",
   "execution_count": null,
   "id": "b42109fb",
   "metadata": {},
   "outputs": [],
   "source": []
  }
 ],
 "metadata": {
  "kernelspec": {
   "display_name": "Python 3 (ipykernel)",
   "language": "python",
   "name": "python3"
  },
  "language_info": {
   "codemirror_mode": {
    "name": "ipython",
    "version": 3
   },
   "file_extension": ".py",
   "mimetype": "text/x-python",
   "name": "python",
   "nbconvert_exporter": "python",
   "pygments_lexer": "ipython3",
   "version": "3.9.12"
  }
 },
 "nbformat": 4,
 "nbformat_minor": 5
}
